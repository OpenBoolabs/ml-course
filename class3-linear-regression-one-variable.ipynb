{
 "cells": [
  {
   "cell_type": "markdown",
   "metadata": {},
   "source": [
    "# Linear regression one variable"
   ]
  },
  {
   "cell_type": "markdown",
   "metadata": {},
   "source": [
    "Covariance defines whether how two variables change together:\n",
    "\n",
    "- higher values from a dataset associated with higher values from other dataset (positive covariance)\n",
    "- higher values from a dataset associated with lower values from other dataset (negative covariance)\n",
    "- no correlation\n",
    "\n",
    "independence of two variable is given by $cov(x,y) = 0$"
   ]
  },
  {
   "cell_type": "markdown",
   "metadata": {},
   "source": [
    "Correlation is given by:\n",
    "\n",
    "$r_{xy} = \\frac{cov(x, y)}{\\sigma_{x} \\sigma_{y}}$"
   ]
  },
  {
   "cell_type": "markdown",
   "metadata": {},
   "source": [
    "Regression and correlation measures two samples and verify how they relate to each other.\n",
    "\n",
    "Linear regression is given by:\n",
    "\n",
    "$y = a + bx$\n",
    "\n",
    "- a is the point where the line reaches axis $y$ when $x=0$ \n",
    "- b is slope\n",
    "\n",
    "Example from [Wikipedia](https://en.wikipedia.org/wiki/Linear_regression)\n",
    "<div style='float: center'>\n",
    "  <img style='width: 600px' src=\"https://upload.wikimedia.org/wikipedia/commons/thumb/3/3a/Linear_regression.svg/438px-Linear_regression.svg.png\"/>\n",
    "</div>"
   ]
  },
  {
   "cell_type": "markdown",
   "metadata": {},
   "source": [
    "$Y_{i} = \\alpha + \\beta \\cdot X_{i}$ \n",
    "Onde:\n",
    "\n",
    "- $Y_{i}$ dependent variable\n",
    "- $\\alpha$ linear coefficient\n",
    "- $\\beta$ angular coefficient\n",
    "- $X_{i}$ independent variable\n",
    "- $\\epsilon_{i}$ random error\n",
    "\n",
    "\n"
   ]
  },
  {
   "cell_type": "markdown",
   "metadata": {},
   "source": [
    "Example problem:\n",
    "\n",
    "| Sales quantity | Revenue |\n",
    "|----------------|---------|\n",
    "| 10 | 100 |\n",
    "| 20 | 100 |\n",
    "| 30 | 200 |\n",
    "| 40 | 200 |\n",
    "| 50 | 400 |"
   ]
  },
  {
   "cell_type": "code",
   "execution_count": 73,
   "metadata": {
    "collapsed": true
   },
   "outputs": [],
   "source": [
    "from __future__ import division\n",
    "%matplotlib inline\n",
    "import matplotlib.pyplot as plt\n",
    "import numpy as np"
   ]
  },
  {
   "cell_type": "code",
   "execution_count": 130,
   "metadata": {
    "collapsed": false
   },
   "outputs": [],
   "source": [
    "y = np.array([100, 100, 200, 200, 400])\n",
    "x = np.array([10, 20, 30, 40, 50])"
   ]
  },
  {
   "cell_type": "code",
   "execution_count": 138,
   "metadata": {
    "collapsed": false
   },
   "outputs": [
    {
     "data": {
      "image/png": "[encoded data removed]",
      "text/plain": [
       "<matplotlib.figure.Figure at 0x1140d4b90>"
      ]
     },
     "metadata": {},
     "output_type": "display_data"
    }
   ],
   "source": [
    "plt.scatter(x, y)\n",
    "# plt.plot(x.mean(), y.min(), 'xr')\n",
    "plt.plot(x.mean(), y.mean(), 'xr')\n",
    "plt.ylabel('Revenue (dependent)')\n",
    "plt.xlabel('Sales quantity (independent)')\n",
    "plt.show()"
   ]
  },
  {
   "cell_type": "code",
   "execution_count": 76,
   "metadata": {
    "collapsed": false
   },
   "outputs": [
    {
     "name": "stdout",
     "output_type": "stream",
     "text": [
      "y = -10.0 + 7.0x\n"
     ]
    }
   ],
   "source": [
    "sxx = np.sum((x - x.mean())**2)              # sum of x's\n",
    "syy = np.sum((y - y.mean())**2)              # sum of y's\n",
    "sxy = np.sum((x - x.mean()) * (y -y.mean())) # sum of xy's\n",
    "\n",
    "B = sxy / sxx \n",
    "A = y.mean() - B * x.mean()\n",
    "\n",
    "print 'y = {} + {}x'.format(A, B)"
   ]
  },
  {
   "cell_type": "markdown",
   "metadata": {},
   "source": [
    "R2 score is a metric that determines how well the model fits the observations.\n",
    "\n",
    "It ranges from 0 to 1. Being 1 a perfect fit."
   ]
  },
  {
   "cell_type": "code",
   "execution_count": 77,
   "metadata": {
    "collapsed": false
   },
   "outputs": [
    {
     "name": "stdout",
     "output_type": "stream",
     "text": [
      "R2 score: 0.816666666667\n"
     ]
    }
   ],
   "source": [
    "print 'R2 score: {}'.format(B*sxy/syy)"
   ]
  },
  {
   "cell_type": "markdown",
   "metadata": {},
   "source": [
    "1. For each increment in $(x=1)$ revenue $y$ increases in $7$ \n",
    "2. Revenue $y$ is $-10$ for an empty production (operational cost)."
   ]
  },
  {
   "cell_type": "markdown",
   "metadata": {},
   "source": [
    "## Sklearn\n",
    "\n",
    "Scikit-learn has all methods"
   ]
  },
  {
   "cell_type": "code",
   "execution_count": 140,
   "metadata": {
    "collapsed": false
   },
   "outputs": [
    {
     "name": "stdout",
     "output_type": "stream",
     "text": [
      "(5,) (5, 1)\n",
      "[10 20 30 40 50] [[10]\n",
      " [20]\n",
      " [30]\n",
      " [40]\n",
      " [50]]\n"
     ]
    }
   ],
   "source": [
    "print x.shape, x.reshape(5, 1).shape\n",
    "print x, x.reshape(5, 1)"
   ]
  },
  {
   "cell_type": "code",
   "execution_count": 145,
   "metadata": {
    "collapsed": false
   },
   "outputs": [
    {
     "name": "stdout",
     "output_type": "stream",
     "text": [
      "B: [[ 7.]]\n",
      "A: [[ -10.]\n",
      " [  -3.]\n",
      " [   4.]\n",
      " [ 375.]]\n"
     ]
    }
   ],
   "source": [
    "from sklearn import linear_model\n",
    "\n",
    "# create and fit a regression model (sklearn needs arrays to be reshaped)\n",
    "regr = linear_model.LinearRegression()\n",
    "regr.fit(x.reshape(5,1), y.reshape(5,1))\n",
    "\n",
    "print 'B: {}'.format(regr.coef_)\n",
    "test = np.array([0, 1, 2, 55])\n",
    "print 'A: {}'.format(regr.predict(test.reshape(4, 1)))"
   ]
  },
  {
   "cell_type": "code",
   "execution_count": 79,
   "metadata": {
    "collapsed": false
   },
   "outputs": [
    {
     "name": "stdout",
     "output_type": "stream",
     "text": [
      "0.816666666667\n"
     ]
    }
   ],
   "source": [
    "from sklearn.metrics import r2_score\n",
    "print r2_score(y, regr.predict(x.reshape(5, 1)))"
   ]
  },
  {
   "cell_type": "code",
   "execution_count": 146,
   "metadata": {
    "collapsed": false
   },
   "outputs": [
    {
     "data": {
      "image/png": "[encoded data removed]",
      "text/plain": [
       "<matplotlib.figure.Figure at 0x116391110>"
      ]
     },
     "metadata": {},
     "output_type": "display_data"
    }
   ],
   "source": [
    "# Plot outputs\n",
    "plt.scatter(x, y,  color='black')\n",
    "plt.plot(x, regr.predict(x.reshape(5, 1)), color='blue', linewidth=3)\n",
    "plt.ylabel('Revenue (dependent)')\n",
    "plt.xlabel('Sales quantity (independent)')\n",
    "plt.show()"
   ]
  },
  {
   "cell_type": "code",
   "execution_count": 147,
   "metadata": {
    "collapsed": false
   },
   "outputs": [
    {
     "name": "stdout",
     "output_type": "stream",
     "text": [
      "--2015-12-08 16:10:59--  http://scg.sdsu.edu/wp-content/uploads/2013/09/brain_body.txt\n",
      "Resolving scg.sdsu.edu... 130.191.140.45\n",
      "Connecting to scg.sdsu.edu|130.191.140.45|:80... connected.\n",
      "HTTP request sent, awaiting response... 200 OK\n",
      "Length: 1781 (1.7K) [text/plain]\n",
      "Saving to: 'brain_body.txt.1'\n",
      "\n",
      "brain_body.txt.1    100%[=====================>]   1.74K  --.-KB/s   in 0s     \n",
      "\n",
      "2015-12-08 16:11:00 (113 MB/s) - 'brain_body.txt.1' saved [1781/1781]\n",
      "\n"
     ]
    }
   ],
   "source": [
    "!wget \"http://scg.sdsu.edu/wp-content/uploads/2013/09/brain_body.txt\""
   ]
  },
  {
   "cell_type": "code",
   "execution_count": 149,
   "metadata": {
    "collapsed": false
   },
   "outputs": [
    {
     "name": "stdout",
     "output_type": "stream",
     "text": [
      "0: 3.385 44.500\n",
      "1: 0.480 15.500\n",
      "2: 1.350 8.100\n",
      "3: 465.000 423.000\n",
      "4: 36.330 119.500\n",
      "5: 27.660 115.000\n",
      "6: 14.830 98.200\n",
      "7: 1.040 5.500\n",
      "8: 4.190 58.000\n",
      "9: 0.425 6.400\n",
      "10: 0.101 4.000\n",
      "11: 0.920 5.700\n",
      "12: 1.000 6.600\n",
      "13: 0.005 0.140\n",
      "14: 0.060 1.000\n",
      "15: 3.500 10.800\n",
      "16: 2.000 12.300\n",
      "17: 1.700 6.300\n",
      "18: 2547.000 4603.000\n",
      "19: 0.023 0.300\n",
      "20: 187.100 419.000\n",
      "21: 521.000 655.000\n",
      "22: 0.785 3.500\n",
      "23: 10.000 115.000\n",
      "24: 3.300 25.600\n",
      "25: 0.200 5.000\n",
      "26: 1.410 17.500\n",
      "27: 529.000 680.000\n",
      "28: 207.000 406.000\n",
      "29: 85.000 325.000\n",
      "30: 0.750 12.300\n",
      "31: 62.000 1320.000\n",
      "32: 6654.000 5712.000\n",
      "33: 3.500 3.900\n",
      "34: 6.800 179.000\n",
      "35: 35.000 56.000\n",
      "36: 4.050 17.000\n",
      "37: 0.120 1.000\n",
      "38: 0.023 0.400\n",
      "39: 0.010 0.250\n",
      "40: 1.400 12.500\n",
      "41: 250.000 490.000\n",
      "42: 2.500 12.100\n",
      "43: 55.500 175.000\n",
      "44: 100.000 157.000\n",
      "45: 52.160 440.000\n",
      "46: 10.550 179.500\n",
      "47: 0.550 2.400\n",
      "48: 60.000 81.000\n",
      "49: 3.600 21.000\n",
      "50: 4.288 39.200\n",
      "51: 0.280 1.900\n",
      "52: 0.075 1.200\n",
      "53: 0.122 3.000\n",
      "54: 0.048 0.330\n",
      "55: 192.000 180.000\n",
      "56: 3.000 25.000\n"
     ]
    }
   ],
   "source": [
    "raw = []\n",
    "with open('brain_body.txt', 'r') as handle:\n",
    "    raw = [line.strip() for line in handle]\n",
    "\n",
    "target = []\n",
    "data = []\n",
    "\n",
    "for n, raw_data in enumerate(raw[13:70]):\n",
    "    _, yy, xx = raw_data.split()\n",
    "    print '{}: {} {}'.format(n, yy, xx)\n",
    "    target.append(eval(yy))\n",
    "    data.append(eval(xx))"
   ]
  },
  {
   "cell_type": "code",
   "execution_count": 150,
   "metadata": {
    "collapsed": false
   },
   "outputs": [],
   "source": [
    "target = np.array(target)\n",
    "data = np.array(data)"
   ]
  },
  {
   "cell_type": "code",
   "execution_count": 151,
   "metadata": {
    "collapsed": false
   },
   "outputs": [
    {
     "data": {
      "image/png": "[encoded data removed]",
      "text/plain": [
       "<matplotlib.figure.Figure at 0x115d00850>"
      ]
     },
     "metadata": {},
     "output_type": "display_data"
    }
   ],
   "source": [
    "# Plot outputs\n",
    "plt.scatter(data, target,  color='black')\n",
    "plt.ylabel('Brain Weight')\n",
    "plt.xlabel('Body Weight')\n",
    "plt.show()"
   ]
  },
  {
   "cell_type": "code",
   "execution_count": 155,
   "metadata": {
    "collapsed": false
   },
   "outputs": [
    {
     "name": "stdout",
     "output_type": "stream",
     "text": [
      "B: [[ 0.90405419]]\n",
      "A: [[-61.38017891]]\n",
      "0.87250574669\n"
     ]
    }
   ],
   "source": [
    "# create and fit a regression model (sklearn needs arrays to be reshaped)\n",
    "regr = linear_model.LinearRegression()\n",
    "regr.fit(data.reshape(57, 1), target.reshape(57, 1))\n",
    "\n",
    "print 'B: {}'.format(regr.coef_)\n",
    "print 'A: {}'.format(regr.predict(np.array([0])))\n",
    "print r2_score(target, regr.predict(data.reshape(57, 1)))"
   ]
  },
  {
   "cell_type": "code",
   "execution_count": 159,
   "metadata": {
    "collapsed": false
   },
   "outputs": [
    {
     "name": "stdout",
     "output_type": "stream",
     "text": [
      "B: [[ 1.22170479]]\n",
      "A: [[-2.51307158]]\n",
      "0.924948889753\n"
     ]
    }
   ],
   "source": [
    "# create and fit a regression model (sklearn needs arrays to be reshaped)\n",
    "regr = linear_model.LinearRegression()\n",
    "regr.fit(np.log(data).reshape(57, 1), np.log(target).reshape(57, 1))\n",
    "\n",
    "print 'B: {}'.format(regr.coef_)\n",
    "print 'A: {}'.format(regr.predict(np.array([0])))\n",
    "print r2_score(np.log(target), regr.predict(np.log(data).reshape(57, 1)))"
   ]
  },
  {
   "cell_type": "markdown",
   "metadata": {},
   "source": [
    "$y = -2.5 + 1.22X$"
   ]
  },
  {
   "cell_type": "code",
   "execution_count": 157,
   "metadata": {
    "collapsed": false
   },
   "outputs": [
    {
     "data": {
      "image/png": "[encoded data removed]",
      "text/plain": [
       "<matplotlib.figure.Figure at 0x115cf6390>"
      ]
     },
     "metadata": {},
     "output_type": "display_data"
    }
   ],
   "source": [
    "# Plot outputs\n",
    "plt.scatter(data, target,  color='black')\n",
    "plt.plot(data, regr.predict(data.reshape(57, 1)), color='blue', linewidth=3)\n",
    "plt.ylabel('Brain Weight')\n",
    "plt.xlabel('Body Weight')\n",
    "plt.show()"
   ]
  },
  {
   "cell_type": "code",
   "execution_count": 160,
   "metadata": {
    "collapsed": false
   },
   "outputs": [
    {
     "data": {
      "image/png": "[encoded data removed]",
      "text/plain": [
       "<matplotlib.figure.Figure at 0x115e9ded0>"
      ]
     },
     "metadata": {},
     "output_type": "display_data"
    }
   ],
   "source": [
    "# Plot outputs\n",
    "plt.scatter(np.log(data), np.log(target),  color='black')\n",
    "plt.plot(np.log(data), regr.predict(np.log(data).reshape(57, 1)), color='blue', linewidth=3)\n",
    "plt.ylabel('Brain Weight')\n",
    "plt.xlabel('Body Weight')\n",
    "plt.show()"
   ]
  },
  {
   "cell_type": "code",
   "execution_count": 158,
   "metadata": {
    "collapsed": false
   },
   "outputs": [
    {
     "data": {
      "image/png": "[encoded data removed]",
      "text/plain": [
       "<matplotlib.figure.Figure at 0x115e292d0>"
      ]
     },
     "metadata": {},
     "output_type": "display_data"
    }
   ],
   "source": [
    "# Plot outputs\n",
    "plt.scatter(np.log(data), np.log(target),  color='black')\n",
    "plt.ylabel('Brain Weight')\n",
    "plt.xlabel('Body Weight')\n",
    "plt.show()"
   ]
  }
 ],
 "metadata": {
  "kernelspec": {
   "display_name": "Python 2",
   "language": "python",
   "name": "python2"
  },
  "language_info": {
   "codemirror_mode": {
    "name": "ipython",
    "version": 2
   },
   "file_extension": ".py",
   "mimetype": "text/x-python",
   "name": "python",
   "nbconvert_exporter": "python",
   "pygments_lexer": "ipython2",
   "version": "2.7.10"
  }
 },
 "nbformat": 4,
 "nbformat_minor": 0
}
