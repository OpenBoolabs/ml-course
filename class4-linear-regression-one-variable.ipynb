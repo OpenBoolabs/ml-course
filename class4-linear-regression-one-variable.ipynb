{
 "cells": [
  {
   "cell_type": "markdown",
   "metadata": {},
   "source": [
    "# Linear regression one variable"
   ]
  },
  {
   "cell_type": "markdown",
   "metadata": {},
   "source": [
    "Covariance defines whether how two variables change together:\n",
    "\n",
    "- higher values from a dataset associated with higher values from other dataset (positive covariance)\n",
    "- higher values from a dataset associated with lower values from other dataset (negative covariance)\n",
    "- no correlation\n",
    "\n",
    "independence of two variable is given by $cov(x,y) = 0$"
   ]
  },
  {
   "cell_type": "markdown",
   "metadata": {},
   "source": [
    "Correlation is given by:\n",
    "\n",
    "$r_{xy} = \\frac{cov(x, y)}{\\sigma_{x} \\sigma_{y}}$"
   ]
  },
  {
   "cell_type": "markdown",
   "metadata": {},
   "source": [
    "Regression and correlation measures two samples and verify how they relate to each other.\n",
    "\n",
    "Linear regression is given by:\n",
    "\n",
    "$y = a + bx$\n",
    "\n",
    "- a is the point where the line reaches axis $y$ when $x=0$ \n",
    "- b is slope\n",
    "\n",
    "Example from [Wikipedia](https://en.wikipedia.org/wiki/Linear_regression)\n",
    "<div style='float: center'>\n",
    "  <img style='width: 600px' src=\"https://upload.wikimedia.org/wikipedia/commons/thumb/3/3a/Linear_regression.svg/438px-Linear_regression.svg.png\"/>\n",
    "</div>"
   ]
  },
  {
   "cell_type": "markdown",
   "metadata": {},
   "source": [
    "$Y_{i} = \\alpha + \\beta \\cdot X_{i} + \\epsilon_{i}$\n",
    "\n",
    "Onde:\n",
    "\n",
    "- $Y_{i}$ dependent variable\n",
    "- $\\alpha$ linear coefficient\n",
    "- $\\beta$ angular coefficient\n",
    "- $X_{i}$ independent variable\n",
    "- $\\epsilon_{i}$ random error\n",
    "\n",
    "\n"
   ]
  },
  {
   "cell_type": "markdown",
   "metadata": {},
   "source": [
    "Example problem:\n",
    "\n",
    "| Sales quantity | Revenue |\n",
    "|----------------|---------|\n",
    "| 10 | 100 |\n",
    "| 20 | 100 |\n",
    "| 30 | 200 |\n",
    "| 40 | 200 |\n",
    "| 50 | 400 |"
   ]
  },
  {
   "cell_type": "code",
   "execution_count": 73,
   "metadata": {
    "collapsed": true
   },
   "outputs": [],
   "source": [
    "from __future__ import division\n",
    "%matplotlib inline\n",
    "import matplotlib.pyplot as plt\n",
    "import numpy as np"
   ]
  },
  {
   "cell_type": "code",
   "execution_count": 74,
   "metadata": {
    "collapsed": false
   },
   "outputs": [],
   "source": [
    "y = np.array([100, 100, 200, 200, 400])\n",
    "x = np.array([10, 20, 30, 40, 50])"
   ]
  },
  {
   "cell_type": "code",
   "execution_count": 75,
   "metadata": {
    "collapsed": false
   },
   "outputs": [
    {
     "data": {
      "image/png": "[encoded data removed]",
      "text/plain": [
       "<matplotlib.figure.Figure at 0x1140e5f50>"
      ]
     },
     "metadata": {},
     "output_type": "display_data"
    }
   ],
   "source": [
    "plt.scatter(x, y)\n",
    "plt.ylabel('Revenue (dependent)')\n",
    "plt.xlabel('Sales quantity (independent)')\n",
    "plt.xticks(())\n",
    "plt.yticks(())\n",
    "plt.show()"
   ]
  },
  {
   "cell_type": "code",
   "execution_count": 76,
   "metadata": {
    "collapsed": false
   },
   "outputs": [
    {
     "name": "stdout",
     "output_type": "stream",
     "text": [
      "y = -10.0 + 7.0x\n"
     ]
    }
   ],
   "source": [
    "sxx = np.sum((x - x.mean())**2)              # sum of x's\n",
    "syy = np.sum((y - y.mean())**2)              # sum of y's\n",
    "sxy = np.sum((x - x.mean()) * (y -y.mean())) # sum of xy's\n",
    "\n",
    "B = sxy / sxx \n",
    "A = y.mean() - B * x.mean()\n",
    "\n",
    "print 'y = {} + {}x'.format(A, B)"
   ]
  },
  {
   "cell_type": "markdown",
   "metadata": {},
   "source": [
    "R2 score is a metric that determines how well the model fits the observations.\n",
    "\n",
    "It ranges from 0 to 1. Being 1 a perfect fit."
   ]
  },
  {
   "cell_type": "code",
   "execution_count": 77,
   "metadata": {
    "collapsed": false
   },
   "outputs": [
    {
     "name": "stdout",
     "output_type": "stream",
     "text": [
      "R2 score: 0.816666666667\n"
     ]
    }
   ],
   "source": [
    "print 'R2 score: {}'.format(B*sxy/syy)"
   ]
  },
  {
   "cell_type": "markdown",
   "metadata": {},
   "source": [
    "1. For each increment in $(x=1)$ revenue $y$ increases in $7$ \n",
    "2. Revenue $y$ is $-10$ for an empty production (operational cost)."
   ]
  },
  {
   "cell_type": "markdown",
   "metadata": {},
   "source": [
    "## Sklearn\n",
    "\n",
    "Scikit-learn has all methods"
   ]
  },
  {
   "cell_type": "code",
   "execution_count": 78,
   "metadata": {
    "collapsed": false
   },
   "outputs": [
    {
     "name": "stdout",
     "output_type": "stream",
     "text": [
      "B: 7.0\n",
      "A: -10.0\n"
     ]
    }
   ],
   "source": [
    "from sklearn import linear_model\n",
    "\n",
    "# create and fit a regression model (sklearn needs arrays to be reshaped)\n",
    "regr = linear_model.LinearRegression()\n",
    "regr.fit(x.reshape(5,1), y.reshape(5,1))\n",
    "\n",
    "print 'B: {}'.format(regr.coef_[0][0])\n",
    "print 'A: {}'.format(regr.predict(np.array([0]))[0][0])"
   ]
  },
  {
   "cell_type": "code",
   "execution_count": 79,
   "metadata": {
    "collapsed": false
   },
   "outputs": [
    {
     "name": "stdout",
     "output_type": "stream",
     "text": [
      "0.816666666667\n"
     ]
    }
   ],
   "source": [
    "from sklearn.metrics import r2_score\n",
    "print r2_score(y, regr.predict(x.reshape(5, 1)))"
   ]
  },
  {
   "cell_type": "code",
   "execution_count": 80,
   "metadata": {
    "collapsed": false
   },
   "outputs": [
    {
     "data": {
      "image/png": "[encoded data removed]",
      "text/plain": [
       "<matplotlib.figure.Figure at 0x115977ad0>"
      ]
     },
     "metadata": {},
     "output_type": "display_data"
    }
   ],
   "source": [
    "# Plot outputs\n",
    "plt.scatter(x, y,  color='black')\n",
    "plt.plot(x, regr.predict(x.reshape(5, 1)), color='blue', linewidth=3)\n",
    "plt.ylabel('Revenue (dependent)')\n",
    "plt.xlabel('Sales quantity (independent)')\n",
    "plt.xticks(())\n",
    "plt.yticks(())\n",
    "plt.show()"
   ]
  },
  {
   "cell_type": "code",
   "execution_count": 89,
   "metadata": {
    "collapsed": false
   },
   "outputs": [
    {
     "name": "stdout",
     "output_type": "stream",
     "text": [
      "--2015-12-08 11:31:07--  http://scg.sdsu.edu/wp-content/uploads/2013/09/brain_body.txt\n",
      "Resolving scg.sdsu.edu... 130.191.140.45\n",
      "Connecting to scg.sdsu.edu|130.191.140.45|:80... connected.\n",
      "HTTP request sent, awaiting response... 200 OK\n",
      "Length: 1781 (1.7K) [text/plain]\n",
      "Saving to: 'brain_body.txt'\n",
      "\n",
      "brain_body.txt      100%[=====================>]   1.74K  --.-KB/s   in 0s     \n",
      "\n",
      "2015-12-08 11:31:08 (106 MB/s) - 'brain_body.txt' saved [1781/1781]\n",
      "\n"
     ]
    }
   ],
   "source": [
    "!wget \"http://scg.sdsu.edu/wp-content/uploads/2013/09/brain_body.txt\""
   ]
  },
  {
   "cell_type": "code",
   "execution_count": 119,
   "metadata": {
    "collapsed": false
   },
   "outputs": [
    {
     "name": "stdout",
     "output_type": "stream",
     "text": [
      "0 1     3.385    44.500\n",
      "1 2     0.480    15.500\n",
      "2 3     1.350     8.100\n",
      "3 4   465.000   423.000\n",
      "4 5    36.330   119.500\n",
      "5 6    27.660   115.000\n",
      "6 7    14.830    98.200\n",
      "7 8     1.040     5.500\n",
      "8 9     4.190    58.000\n",
      "9 10     0.425     6.400\n",
      "10 11     0.101     4.000\n",
      "11 12     0.920     5.700\n",
      "12 13     1.000     6.600\n",
      "13 14     0.005     0.140\n",
      "14 15     0.060     1.000\n",
      "15 16     3.500    10.800\n",
      "16 17     2.000    12.300\n",
      "17 18     1.700     6.300\n",
      "18 19  2547.000  4603.000\n",
      "19 20     0.023     0.300\n",
      "20 21   187.100   419.000\n",
      "21 22   521.000   655.000\n",
      "22 23     0.785     3.500\n",
      "23 24    10.000   115.000\n",
      "24 25     3.300    25.600\n",
      "25 26     0.200     5.000\n",
      "26 27     1.410    17.500\n",
      "27 28   529.000   680.000\n",
      "28 29   207.000   406.000\n",
      "29 30    85.000   325.000\n",
      "30 31     0.750    12.300\n",
      "31 32    62.000  1320.000\n",
      "32 33  6654.000  5712.000\n",
      "33 34     3.500     3.900\n",
      "34 35     6.800   179.000\n",
      "35 36    35.000    56.000\n",
      "36 37     4.050    17.000\n",
      "37 38     0.120     1.000\n",
      "38 39     0.023     0.400\n",
      "39 40     0.010     0.250\n",
      "40 41     1.400    12.500\n",
      "41 42   250.000   490.000\n",
      "42 43     2.500    12.100\n",
      "43 44    55.500   175.000\n",
      "44 45   100.000   157.000\n",
      "45 46    52.160   440.000\n",
      "46 47    10.550   179.500\n",
      "47 48     0.550     2.400\n",
      "48 49    60.000    81.000\n",
      "49 50     3.600    21.000\n",
      "50 51     4.288    39.200\n",
      "51 52     0.280     1.900\n",
      "52 53     0.075     1.200\n",
      "53 54     0.122     3.000\n",
      "54 55     0.048     0.330\n",
      "55 56   192.000   180.000\n",
      "56 57     3.000    25.000\n"
     ]
    }
   ],
   "source": [
    "raw = []\n",
    "with open('brain_body.txt', 'r') as handle:\n",
    "    raw = [line.strip() for line in handle]\n",
    "\n",
    "target = []\n",
    "data = []\n",
    "\n",
    "for n, raw_data in enumerate(raw[13:70]):\n",
    "    print n, raw_data\n",
    "    _, yy, xx = raw_data.split()\n",
    "    target.append(eval(yy))\n",
    "    data.append(eval(xx))\n"
   ]
  },
  {
   "cell_type": "code",
   "execution_count": 109,
   "metadata": {
    "collapsed": false
   },
   "outputs": [
    {
     "name": "stdout",
     "output_type": "stream",
     "text": [
      "(57,) (57,)\n"
     ]
    }
   ],
   "source": [
    "target = np.array(target)\n",
    "data = np.array(data)\n",
    "print target.shape, data.shape"
   ]
  },
  {
   "cell_type": "code",
   "execution_count": 110,
   "metadata": {
    "collapsed": false
   },
   "outputs": [
    {
     "data": {
      "image/png": "[encoded data removed]",
      "text/plain": [
       "<matplotlib.figure.Figure at 0x113ede990>"
      ]
     },
     "metadata": {},
     "output_type": "display_data"
    }
   ],
   "source": [
    "# Plot outputs\n",
    "plt.scatter(data, target,  color='black')\n",
    "plt.ylabel('Brain_Weight')\n",
    "plt.xlabel('Body Weight')\n",
    "plt.xticks(())\n",
    "plt.yticks(())\n",
    "plt.show()"
   ]
  },
  {
   "cell_type": "code",
   "execution_count": 111,
   "metadata": {
    "collapsed": false
   },
   "outputs": [
    {
     "ename": "TypeError",
     "evalue": "Not implemented for this type",
     "output_type": "error",
     "traceback": [
      "\u001b[0;31m---------------------------------------------------------------------------\u001b[0m",
      "\u001b[0;31mTypeError\u001b[0m                                 Traceback (most recent call last)",
      "\u001b[0;32m<ipython-input-111-f77b5f0f0d7f>\u001b[0m in \u001b[0;36m<module>\u001b[0;34m()\u001b[0m\n\u001b[1;32m      1\u001b[0m \u001b[0;31m# Plot outputs\u001b[0m\u001b[0;34m\u001b[0m\u001b[0;34m\u001b[0m\u001b[0m\n\u001b[0;32m----> 2\u001b[0;31m \u001b[0mplt\u001b[0m\u001b[0;34m.\u001b[0m\u001b[0mscatter\u001b[0m\u001b[0;34m(\u001b[0m\u001b[0mnp\u001b[0m\u001b[0;34m.\u001b[0m\u001b[0mlog\u001b[0m\u001b[0;34m(\u001b[0m\u001b[0mdata\u001b[0m\u001b[0;34m)\u001b[0m\u001b[0;34m,\u001b[0m \u001b[0mnp\u001b[0m\u001b[0;34m.\u001b[0m\u001b[0mlog\u001b[0m\u001b[0;34m(\u001b[0m\u001b[0mtarget\u001b[0m\u001b[0;34m)\u001b[0m\u001b[0;34m,\u001b[0m  \u001b[0mcolor\u001b[0m\u001b[0;34m=\u001b[0m\u001b[0;34m'black'\u001b[0m\u001b[0;34m)\u001b[0m\u001b[0;34m\u001b[0m\u001b[0m\n\u001b[0m\u001b[1;32m      3\u001b[0m \u001b[0mplt\u001b[0m\u001b[0;34m.\u001b[0m\u001b[0mylabel\u001b[0m\u001b[0;34m(\u001b[0m\u001b[0;34m'Brain_Weight'\u001b[0m\u001b[0;34m)\u001b[0m\u001b[0;34m\u001b[0m\u001b[0m\n\u001b[1;32m      4\u001b[0m \u001b[0mplt\u001b[0m\u001b[0;34m.\u001b[0m\u001b[0mxlabel\u001b[0m\u001b[0;34m(\u001b[0m\u001b[0;34m'Body Weight'\u001b[0m\u001b[0;34m)\u001b[0m\u001b[0;34m\u001b[0m\u001b[0m\n\u001b[1;32m      5\u001b[0m \u001b[0mplt\u001b[0m\u001b[0;34m.\u001b[0m\u001b[0mxticks\u001b[0m\u001b[0;34m(\u001b[0m\u001b[0;34m(\u001b[0m\u001b[0;34m)\u001b[0m\u001b[0;34m)\u001b[0m\u001b[0;34m\u001b[0m\u001b[0m\n",
      "\u001b[0;31mTypeError\u001b[0m: Not implemented for this type"
     ]
    }
   ],
   "source": [
    "# Plot outputs\n",
    "plt.scatter(np.log([d for d in data]), np.log(target),  color='black')\n",
    "plt.ylabel('Brain_Weight')\n",
    "plt.xlabel('Body Weight')\n",
    "plt.xticks(())\n",
    "plt.yticks(())\n",
    "plt.show()"
   ]
  },
  {
   "cell_type": "code",
   "execution_count": 118,
   "metadata": {
    "collapsed": false
   },
   "outputs": [
    {
     "data": {
      "text/plain": [
       "dtype('S8')"
      ]
     },
     "execution_count": 118,
     "metadata": {},
     "output_type": "execute_result"
    }
   ],
   "source": [
    "# [np.log(d) for d in data], \n",
    "data.dtype"
   ]
  },
  {
   "cell_type": "code",
   "execution_count": null,
   "metadata": {
    "collapsed": true
   },
   "outputs": [],
   "source": []
  }
 ],
 "metadata": {
  "kernelspec": {
   "display_name": "Python 2",
   "language": "python",
   "name": "python2"
  },
  "language_info": {
   "codemirror_mode": {
    "name": "ipython",
    "version": 2
   },
   "file_extension": ".py",
   "mimetype": "text/x-python",
   "name": "python",
   "nbconvert_exporter": "python",
   "pygments_lexer": "ipython2",
   "version": "2.7.10"
  }
 },
 "nbformat": 4,
 "nbformat_minor": 0
}
