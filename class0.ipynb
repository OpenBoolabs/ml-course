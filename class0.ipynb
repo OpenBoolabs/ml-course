{
 "cells": [
  {
   "cell_type": "markdown",
   "metadata": {},
   "source": [
    "# Why machine learning?"
   ]
  },
  {
   "cell_type": "markdown",
   "metadata": {
    "collapsed": true
   },
   "source": [
    "You can use it to train computers to do things that are impossible to program in advance. For instance, handwriting recognition can only be achieved through machine learning.\n",
    "\n",
    "Explicitly specifying the knowledge needed for specific tasks is hard, and often infeasible.\n",
    "\n",
    "Earn money (http://techcrunch.com/2014/01/26/google-deepmind/)\n",
    "\n",
    "source:\n",
    "[Machine Learning is the most popular course at stanford](http://www.forbes.com/sites/anthonykosner/2013/12/29/why-is-machine-learning-cs-229-the-most-popular-course-at-stanford/)\n",
    "\n",
    "Example of (fun) application:\n",
    "[Seaquest](https://www.youtube.com/watch?v=5WXVJ1A0k6Q)\n",
    "\n",
    "Machine learning is also used in industry:\n",
    "[Boo](http://www.boolabs.com.br)\n",
    "\n",
    "\n",
    "Some interesting links:\n",
    "\n",
    "https://www.kaggle.com/"
   ]
  },
  {
   "cell_type": "markdown",
   "metadata": {},
   "source": [
    "# References"
   ]
  },
  {
   "cell_type": "markdown",
   "metadata": {},
   "source": [
    "[Andrew Zisserman course](http://www.robots.ox.ac.uk/~az/lectures)\n",
    "\n",
    "[Python machine learning book](https://github.com/rasbt/python-machine-learning-book)\n",
    "\n",
    "[Andrew's NG machine learning course](https://www.coursera.org/learn/machine-learning)\n",
    "\n",
    "[Data school course](https://github.com/justmarkham/DAT4/blob/master/notebooks/08_linear_regression.ipynb)"
   ]
  },
  {
   "cell_type": "code",
   "execution_count": null,
   "metadata": {
    "collapsed": true
   },
   "outputs": [],
   "source": []
  }
 ],
 "metadata": {
  "kernelspec": {
   "display_name": "Python 2",
   "language": "python",
   "name": "python2"
  },
  "language_info": {
   "codemirror_mode": {
    "name": "ipython",
    "version": 2
   },
   "file_extension": ".py",
   "mimetype": "text/x-python",
   "name": "python",
   "nbconvert_exporter": "python",
   "pygments_lexer": "ipython2",
   "version": "2.7.10"
  }
 },
 "nbformat": 4,
 "nbformat_minor": 0
}
