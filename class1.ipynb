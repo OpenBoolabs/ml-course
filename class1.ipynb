{
 "cells": [
  {
   "cell_type": "markdown",
   "metadata": {},
   "source": [
    "# Machine learning course"
   ]
  },
  {
   "cell_type": "markdown",
   "metadata": {},
   "source": [
    "-[Introduction to numpy](#1.-Introduction-to-numpy)"
   ]
  },
  {
   "cell_type": "markdown",
   "metadata": {},
   "source": [
    "## 1. Introduction to numpy"
   ]
  },
  {
   "cell_type": "markdown",
   "metadata": {
    "collapsed": true
   },
   "source": [
    "Numpy is a fast library for representing ND-array.\n",
    "A ND-array can also be viewed as a sequence of scalars.\n",
    "\n",
    "\n",
    "In order to use numpy is simple as just importing as\n",
    "\n",
    "````\n",
    "import numpy as np\n",
    "````\n",
    "\n",
    "from numpy's page:\n",
    "\n",
    "NumPy is the fundamental package for scientific computing with Python. It contains among other things:\n",
    "\n",
    "- a powerful N-dimensional array object\n",
    "- sophisticated (broadcasting) functions\n",
    "- tools for integrating C/C++ and Fortran code\n",
    "- useful linear algebra, Fourier transform, and random number capabilities"
   ]
  },
  {
   "cell_type": "code",
   "execution_count": 1,
   "metadata": {
    "collapsed": true
   },
   "outputs": [],
   "source": [
    "import numpy as np"
   ]
  },
  {
   "cell_type": "markdown",
   "metadata": {},
   "source": [
    "Example of instantiation:\n",
    "\n",
    "1. 1D array\n",
    "\n",
    "```\n",
    "X = np.array([2, 3, 4])\n",
    "```\n",
    "\n",
    "1. 2D array\n",
    "\n",
    "```\n",
    "X = np.array([[2, 3, 4], [5, 6, 7]])\n",
    "```"
   ]
  },
  {
   "cell_type": "markdown",
   "metadata": {},
   "source": [
    "Despite of the example, each column is also referenced as a dimension for a ND dimensional array\n",
    "For example the array below:\n",
    "```\n",
    "X = np.array([[2, 3, 4]])\n",
    "```\n",
    "has 3 columns thus 3 dimensions\n",
    "In the following case\n",
    "```\n",
    "X = np.array([[2, 3, 4]]).T\n",
    "```\n",
    "\n",
    "The vector now contains only one dimension (and $3$ rows). It is also named as columnar vector"
   ]
  },
  {
   "cell_type": "code",
   "execution_count": 21,
   "metadata": {
    "collapsed": false
   },
   "outputs": [
    {
     "name": "stdout",
     "output_type": "stream",
     "text": [
      "Shape of X (1, 3)\n",
      "Shape of X (2, 3)\n"
     ]
    }
   ],
   "source": [
    "# coding \n",
    "# 1D dimensional array\n",
    "X = np.array([[2, 30, 4]])\n",
    "print 'Shape of X', X.shape\n",
    "\n",
    "# 2D dimensional array\n",
    "X = np.array([[2, 3, 4], [5, 6, 7]])\n",
    "print 'Shape of X', X.shape"
   ]
  },
  {
   "cell_type": "markdown",
   "metadata": {},
   "source": [
    "Some of supported data types:\n",
    "\n",
    "| Data type  | Description |\n",
    "|-----------------------|\n",
    "|bool_\t   | Boolean (True or False) stored as a byte |\n",
    "| int8\t | Byte (-128 to 127) | \n",
    "| int16\t | Integer (-32768 to 32767) | \n",
    "| uint8  | Unsigned integer (0 to 255) |\n",
    "| float32\t| Single precision float: sign bit, 8 bits exponent, 23 bits mantissa |\n",
    "| float64\t| Double precision float: sign bit, 11 bits exponent, 52 bits mantissa |\n",
    "\n",
    "[More info!](http://docs.scipy.org/doc/numpy-1.10.1/user/basics.types.html)\n",
    "\n",
    "\n",
    "It is importante to notice the physical limit when performing some operation.\n",
    "Example below: "
   ]
  },
  {
   "cell_type": "code",
   "execution_count": 3,
   "metadata": {
    "collapsed": false
   },
   "outputs": [
    {
     "name": "stdout",
     "output_type": "stream",
     "text": [
      "255\n"
     ]
    },
    {
     "name": "stderr",
     "output_type": "stream",
     "text": [
      "/Users/danilonunes/.virtualenvs/dns/lib/python2.7/site-packages/ipykernel/__main__.py:2: RuntimeWarning: overflow encountered in ubyte_scalars\n",
      "  from ipykernel import kernelapp as app\n"
     ]
    }
   ],
   "source": [
    "n = np.uint8(0) \n",
    "print n - np.uint8(1)"
   ]
  },
  {
   "cell_type": "code",
   "execution_count": 62,
   "metadata": {
    "collapsed": false
   },
   "outputs": [
    {
     "name": "stdout",
     "output_type": "stream",
     "text": [
      "-9e-16\n",
      "-0.00\n"
     ]
    }
   ],
   "source": [
    "A = 1e-16\n",
    "B = 1e-15\n",
    "\n",
    "print A - B\n",
    "print '{:.2f}'.format(A-B)"
   ]
  },
  {
   "cell_type": "markdown",
   "metadata": {},
   "source": [
    "## 1.1. Basic operations\n",
    "\n",
    "Some basic and useful operations are:"
   ]
  },
  {
   "cell_type": "markdown",
   "metadata": {},
   "source": [
    "### 1.1.1 Indexing\n",
    "\n",
    "As python lists numpy arrays offers efficient indexing\n",
    "```\n",
    "array[begin:end:step]\n",
    "```"
   ]
  },
  {
   "cell_type": "code",
   "execution_count": 4,
   "metadata": {
    "collapsed": false
   },
   "outputs": [
    {
     "name": "stdout",
     "output_type": "stream",
     "text": [
      "[  9.01976583e-01   9.58897157e-04   9.96834116e-01   7.18697198e-01\n",
      "   2.96471575e-01   7.63910060e-01   1.59251363e-02   9.65904447e-01\n",
      "   7.41469993e-01   8.48087657e-01]\n",
      "\n",
      "first 4 positions [  9.01976583e-01   9.58897157e-04   9.96834116e-01   7.18697198e-01]\n",
      "step by 3 [ 0.90197658  0.7186972   0.01592514  0.84808766]\n",
      "7/8 positions [ 0.96590445  0.74146999]\n",
      "reversed [  8.48087657e-01   7.41469993e-01   9.65904447e-01   1.59251363e-02\n",
      "   7.63910060e-01   2.96471575e-01   7.18697198e-01   9.96834116e-01\n",
      "   9.58897157e-04   9.01976583e-01]\n"
     ]
    }
   ],
   "source": [
    "X = np.random.rand(10)\n",
    "print X\n",
    "\n",
    "print '\\nfirst 4 positions', X[:4]\n",
    "\n",
    "print 'step by 3', X[::3]\n",
    "\n",
    "print '7/8 positions', X[-3:-1]\n",
    "\n",
    "print 'reversed', X[::-1]"
   ]
  },
  {
   "cell_type": "markdown",
   "metadata": {},
   "source": [
    "### 1.1.2 Transpose \n",
    "\n",
    "The transpose operations take a $m \\times n$ array and produces a $n \\times m$ array by reorganizing data."
   ]
  },
  {
   "cell_type": "code",
   "execution_count": 5,
   "metadata": {
    "collapsed": false
   },
   "outputs": [
    {
     "name": "stdout",
     "output_type": "stream",
     "text": [
      "X:\n",
      "[[2 3 4]\n",
      " [5 6 7]]\n",
      "Shape of X (2, 3)\n",
      "\n",
      "X.T:\n",
      "[[2 5]\n",
      " [3 6]\n",
      " [4 7]]\n",
      "Transpose of X (3, 2)\n"
     ]
    }
   ],
   "source": [
    "# original array\n",
    "X = np.array([[2, 3, 4], [5, 6, 7]])\n",
    "\n",
    "print 'X:'\n",
    "print X\n",
    "print 'Shape of X', X.shape\n",
    "\n",
    "print '\\nX.T:'\n",
    "print X.T\n",
    "print 'Transpose of X', X.T.shape\n"
   ]
  },
  {
   "cell_type": "markdown",
   "metadata": {},
   "source": [
    "### 1.1.3. Operations on array (sum, min, multiply, ...)"
   ]
  },
  {
   "cell_type": "markdown",
   "metadata": {},
   "source": [
    "#### Addition "
   ]
  },
  {
   "cell_type": "markdown",
   "metadata": {},
   "source": [
    "$\\left[ \n",
    "\\begin{array}{cc}\n",
    "    a & b \\\\\n",
    "    c & d \\\\\n",
    "\\end{array} \\right]$ +\n",
    "$\\left[ \n",
    "\\begin{array}{cc}\n",
    "    w & x \\\\\n",
    "    y & z \\\\\n",
    "\\end{array} \\right]$ =\n",
    "$\\left[ \n",
    "\\begin{array}{cc}\n",
    "    a + w & b + x \\\\\n",
    "    c + y & d + z \\\\\n",
    "\\end{array} \\right]$"
   ]
  },
  {
   "cell_type": "code",
   "execution_count": 6,
   "metadata": {
    "collapsed": false
   },
   "outputs": [
    {
     "name": "stdout",
     "output_type": "stream",
     "text": [
      "A\n",
      "[[2 3]\n",
      " [5 6]]\n",
      "\n",
      "B\n",
      "[[4 6]\n",
      " [7 8]]\n",
      "\n",
      "A + B\n",
      "[[ 6  9]\n",
      " [12 14]]\n"
     ]
    }
   ],
   "source": [
    "A = np.array([[2, 3], [5, 6]])\n",
    "B = np.array([[4, 6], [7, 8]])\n",
    "\n",
    "print 'A\\n', A\n",
    "print '\\nB\\n', B\n",
    "print '\\nA + B\\n', A + B"
   ]
  },
  {
   "cell_type": "markdown",
   "metadata": {},
   "source": [
    "#### Matrix multiplication by scalar\n",
    "\n",
    "$\\left[ \n",
    "\\begin{array}{cc}\n",
    "    a & b \\\\\n",
    "    c & d \\\\\n",
    "\\end{array} \\right]$ + $x$ =\n",
    "$\\left[ \n",
    "\\begin{array}{cc}\n",
    "    a \\cdot x & b \\cdot x \\\\\n",
    "    c \\cdot x & d \\cdot x \\\\\n",
    "\\end{array} \\right]$"
   ]
  },
  {
   "cell_type": "code",
   "execution_count": 7,
   "metadata": {
    "collapsed": false
   },
   "outputs": [
    {
     "name": "stdout",
     "output_type": "stream",
     "text": [
      "A\n",
      "[[2 3]\n",
      " [5 6]]\n",
      "\n",
      "B\n",
      "3\n",
      "\n",
      "A * B\n",
      "[[ 6  9]\n",
      " [15 18]]\n"
     ]
    }
   ],
   "source": [
    "A = np.array([[2, 3], [5, 6]])\n",
    "B = 3\n",
    "\n",
    "print 'A\\n', A\n",
    "print '\\nB\\n', B\n",
    "print '\\nA * B\\n', A * B"
   ]
  },
  {
   "cell_type": "markdown",
   "metadata": {},
   "source": [
    "#### Matrix-Vector multiplication\n",
    "\n",
    "$\\left[ \n",
    "\\begin{array}{cc}\n",
    "    a & b \\\\\n",
    "    c & d \\\\\n",
    "    e & f \\\\\n",
    "\\end{array} \\right]$ \n",
    "$\\cdot \\left[ \n",
    "\\begin{array}{cc}\n",
    "    x \\\\\n",
    "    y \\\\\n",
    "\\end{array} \\right]$ = \n",
    "$\\left[ \n",
    "\\begin{array}{cc}\n",
    "    a \\cdot x + b \\cdot y \\\\\n",
    "    c \\cdot x + d \\cdot y \\\\\n",
    "    e \\cdot x + f \\cdot y \\\\\n",
    "\\end{array} \\right]$ "
   ]
  },
  {
   "cell_type": "code",
   "execution_count": 8,
   "metadata": {
    "collapsed": false
   },
   "outputs": [
    {
     "name": "stdout",
     "output_type": "stream",
     "text": [
      "A\n",
      "[[2 3]\n",
      " [5 6]\n",
      " [7 8]]\n",
      "\n",
      "B\n",
      "[4 6]\n",
      "\n",
      "A * B\n",
      "[[ 8 18]\n",
      " [20 36]\n",
      " [28 48]]\n"
     ]
    }
   ],
   "source": [
    "A = np.array([[2, 3], [5, 6], [7, 8]])\n",
    "B = np.array([4, 6])\n",
    "\n",
    "print 'A\\n', A\n",
    "print '\\nB\\n', B\n",
    "print '\\nA * B\\n', A * B"
   ]
  },
  {
   "cell_type": "markdown",
   "metadata": {},
   "source": [
    "#### Matrix-Matrix multiplication\n",
    "\n",
    "$\\left[ \n",
    "\\begin{array}{cc}\n",
    "    a & b \\\\\n",
    "    c & d \\\\\n",
    "    e & f \\\\\n",
    "\\end{array} \\right]\\cdot \\left[ \n",
    "\\begin{array}{cc}\n",
    "    w & x \\\\\n",
    "    y & z \\\\\n",
    "\\end{array} \\right]$ =\n",
    "$\\left[ \n",
    "\\begin{array}{cc}\n",
    "    a \\cdot w + b \\cdot y & a \\cdot x + b \\cdot z \\\\\n",
    "    c \\cdot w + d \\cdot y & c \\cdot x + d \\cdot z \\\\\n",
    "    e \\cdot w + f \\cdot y & e \\cdot x + f \\cdot z \\\\\n",
    "\\end{array} \\right]$  "
   ]
  },
  {
   "cell_type": "code",
   "execution_count": 9,
   "metadata": {
    "collapsed": false
   },
   "outputs": [
    {
     "name": "stdout",
     "output_type": "stream",
     "text": [
      "A\n",
      "[[2 3]\n",
      " [5 6]\n",
      " [3 4]]\n",
      "\n",
      "B\n",
      "[[4 6]\n",
      " [7 8]]\n",
      "\n",
      "A * B\n",
      "[[29 36]\n",
      " [62 78]\n",
      " [40 50]]\n"
     ]
    }
   ],
   "source": [
    "A = np.array([[2, 3], [5, 6], [3, 4]])\n",
    "B = np.array([[4, 6], [7, 8]])\n",
    "\n",
    "print 'A\\n', A\n",
    "print '\\nB\\n', B\n",
    "print '\\nA * B\\n', np.dot(A, B)"
   ]
  },
  {
   "cell_type": "markdown",
   "metadata": {},
   "source": [
    "Note: matrix multiply or simply * do not work with matrices, only vector. Proper multiplication should use np.dot"
   ]
  },
  {
   "cell_type": "markdown",
   "metadata": {},
   "source": [
    "#### flatten \n",
    "\n",
    "Flattening is the process of transform a matrix into a 1D vector keeping the same elements"
   ]
  },
  {
   "cell_type": "code",
   "execution_count": 10,
   "metadata": {
    "collapsed": false
   },
   "outputs": [
    {
     "name": "stdout",
     "output_type": "stream",
     "text": [
      "A shape: (3, 2)\n",
      "A flatten shape: (6,)\n",
      "A ravel shape: (6,)\n"
     ]
    }
   ],
   "source": [
    "A = np.array([[2, 3], [5, 6], [3, 4]])\n",
    "\n",
    "print 'A shape:', A.shape\n",
    "print 'A flatten shape:', A.flatten().shape\n",
    "print 'A ravel shape:', A.ravel().shape"
   ]
  },
  {
   "cell_type": "markdown",
   "metadata": {},
   "source": [
    "#### Dot product\n",
    "\n",
    "$A \\dot B = \\sum_{i=1}^{n} A_{i} \\dot B_{i}$"
   ]
  },
  {
   "cell_type": "code",
   "execution_count": 11,
   "metadata": {
    "collapsed": false
   },
   "outputs": [
    {
     "data": {
      "text/plain": [
       "3"
      ]
     },
     "execution_count": 11,
     "metadata": {},
     "output_type": "execute_result"
    }
   ],
   "source": [
    "A = np.array([1, 3, -5])\n",
    "B = np.array([4, -2, -1])\n",
    "\n",
    "np.dot(A, B)"
   ]
  },
  {
   "cell_type": "markdown",
   "metadata": {},
   "source": [
    "## 1.2 Statistical operations"
   ]
  },
  {
   "cell_type": "markdown",
   "metadata": {},
   "source": [
    "### 1.2.1 Mean"
   ]
  },
  {
   "cell_type": "markdown",
   "metadata": {},
   "source": [
    "For a set of size $N$ the mean calculus is given by the following expression:\n",
    "\n",
    "$\\bar{x} = \\frac{1}{N} \\sum\\limits_{i=1}^n x_{i}$ "
   ]
  },
  {
   "cell_type": "code",
   "execution_count": 12,
   "metadata": {
    "collapsed": false
   },
   "outputs": [
    {
     "data": {
      "image/png": "[encoded data removed]",
      "text/plain": [
       "<matplotlib.figure.Figure at 0x108465550>"
      ]
     },
     "metadata": {},
     "output_type": "display_data"
    }
   ],
   "source": [
    "%matplotlib inline\n",
    "import matplotlib.pyplot as plt\n",
    "\n",
    "mu, sigma = 0, 0.1 # mean and standard deviation\n",
    "s = np.random.normal(mu, sigma, 1000)\n",
    "\n",
    "\n",
    "count, bins, ignored = plt.hist(s, 30, normed=True)\n",
    "plt.plot(bins, 1/(sigma * np.sqrt(2 * np.pi)) * np.exp( - (bins - mu)**2 / (2 * sigma**2) ), linewidth=2, color='r')\n",
    "plt.show()"
   ]
  },
  {
   "cell_type": "code",
   "execution_count": 13,
   "metadata": {
    "collapsed": false
   },
   "outputs": [
    {
     "name": "stdout",
     "output_type": "stream",
     "text": [
      "computed mean 0.39\n",
      "numpy mean 0.39\n"
     ]
    }
   ],
   "source": [
    "X = np.random.rand(10)\n",
    "mean = sum([x for x in X]) / len(X)\n",
    "print 'computed mean {:.2}'.format(mean)\n",
    "print 'numpy mean {:.2}'.format(X.mean())"
   ]
  },
  {
   "cell_type": "markdown",
   "metadata": {},
   "source": [
    "### 1.2.2 Std "
   ]
  },
  {
   "cell_type": "markdown",
   "metadata": {},
   "source": [
    "Is the measure of dispersion of a population\n",
    "\n",
    "$\\sigma = \\sqrt{\\frac{1}{N} \\sum\\limits_{i=1}^n (x_{i} - \\mu)^{2}}$"
   ]
  },
  {
   "cell_type": "markdown",
   "metadata": {},
   "source": [
    "<img src=\"https://upload.wikimedia.org/wikipedia/commons/thumb/8/8c/Standard_deviation_diagram.svg/650px-Standard_deviation_diagram.svg.png\" align=\"left\"/>"
   ]
  },
  {
   "cell_type": "code",
   "execution_count": 14,
   "metadata": {
    "collapsed": false
   },
   "outputs": [
    {
     "name": "stdout",
     "output_type": "stream",
     "text": [
      "computed std 0.27\n",
      "numpy std 0.27\n"
     ]
    }
   ],
   "source": [
    "std = np.sqrt(sum([(x - mean)**2 for x in X]) * 1 / len(X))\n",
    "\n",
    "print 'computed std {:.2}'.format(std)\n",
    "print 'numpy std {:.2}'.format(X.std())"
   ]
  },
  {
   "cell_type": "markdown",
   "metadata": {},
   "source": [
    "### Properties\n",
    "\n",
    "#### 68–95–99.7 rule \n",
    "\n",
    "There is an important rule of std deviation with respect to mean:\n",
    "\n",
    "- 68.27% of samples lie within one std\n",
    "- 95.45% of samples lie within two std\n",
    "- 99.73% of samples lie within three std"
   ]
  },
  {
   "cell_type": "code",
   "execution_count": 15,
   "metadata": {
    "collapsed": false
   },
   "outputs": [
    {
     "name": "stdout",
     "output_type": "stream",
     "text": [
      "1 std covers 68.2 %\n",
      "2 std cover 95.4 %\n",
      "3 std cover 99.6 %\n"
     ]
    }
   ],
   "source": [
    "coverage = np.array([34.1, 34.1, 13.6, 13.6, 2.1, 2.1])\n",
    "print '1 std covers {} %'.format(coverage[:2].sum())\n",
    "print '2 std cover {} %'.format(coverage[:4].sum())\n",
    "print '3 std cover {} %'.format(coverage[:6].sum())"
   ]
  },
  {
   "cell_type": "markdown",
   "metadata": {},
   "source": [
    "### ploting\n",
    "\n",
    "Plot standard deviation and mean "
   ]
  },
  {
   "cell_type": "code",
   "execution_count": 17,
   "metadata": {
    "collapsed": false
   },
   "outputs": [
    {
     "data": {
      "image/png": "[encoded data removed]",
      "text/plain": [
       "<matplotlib.figure.Figure at 0x109a2aad0>"
      ]
     },
     "metadata": {},
     "output_type": "display_data"
    }
   ],
   "source": [
    "from __future__ import division\n",
    "\n",
    "mu, sigma = 0, 0.1 # mean and standard deviation\n",
    "x = np.random.normal(mu, sigma, 1000)\n",
    "mu = x.mean()\n",
    "st = x.std()\n",
    "\n",
    "def gaussian(x, mu, sig):\n",
    "    return np.exp(-np.power(x - mu, 2.) / (2 * np.power(sig, 2.)))\n",
    "\n",
    "sp = np.linspace(x.min(), x.max(), 1000)\n",
    "pdf = gaussian(sp, mu, sigma)\n",
    "y = pdf.min()\n",
    "\n",
    "plt.figure(figsize=(12, 12))\n",
    "plt.plot(sp, pdf)\n",
    "plt.show()"
   ]
  },
  {
   "cell_type": "markdown",
   "metadata": {
    "collapsed": true
   },
   "source": [
    "### 1.2.3 Median"
   ]
  },
  {
   "cell_type": "markdown",
   "metadata": {},
   "source": [
    "Median separates the lower and higher half of an array"
   ]
  },
  {
   "cell_type": "code",
   "execution_count": 38,
   "metadata": {
    "collapsed": false
   },
   "outputs": [
    {
     "name": "stdout",
     "output_type": "stream",
     "text": [
      "median 5.0\n"
     ]
    }
   ],
   "source": [
    "A = np.array([3, 4, 0, 5, 6, 8, 2, 9, 1, 7, 10])\n",
    "\n",
    "print 'median', np.median(A)"
   ]
  },
  {
   "cell_type": "markdown",
   "metadata": {},
   "source": [
    "### 1.2.4 Mode"
   ]
  },
  {
   "cell_type": "markdown",
   "metadata": {},
   "source": [
    "Mode stands by the most repeatead value on a population"
   ]
  },
  {
   "cell_type": "code",
   "execution_count": 44,
   "metadata": {
    "collapsed": false
   },
   "outputs": [
    {
     "name": "stdout",
     "output_type": "stream",
     "text": [
      "mode [2]\n"
     ]
    }
   ],
   "source": [
    "from scipy import stats\n",
    "\n",
    "A = np.array([3, 2, 4, 2, 0, 2, 5, 6, 8, 2, 9, 1, 7, 10])\n",
    "\n",
    "print 'mode', stats.mode(A)[0]"
   ]
  },
  {
   "cell_type": "markdown",
   "metadata": {},
   "source": [
    "## 1.3 Distances"
   ]
  },
  {
   "cell_type": "markdown",
   "metadata": {},
   "source": [
    "There are a number of manners to compute the distance (or similarity) between arrays.\n",
    "However, the first important thing to notice is both of arrays must have the same shape.\n",
    "\n",
    "Scipy package implements several distance algorithms."
   ]
  },
  {
   "cell_type": "code",
   "execution_count": 22,
   "metadata": {
    "collapsed": true
   },
   "outputs": [],
   "source": [
    "from scipy.spatial import distance"
   ]
  },
  {
   "cell_type": "markdown",
   "metadata": {},
   "source": [
    "### 1.3.1 Euclidean distance\n",
    "\n",
    "This is the most used distance metric, it computes the difference in each dimensional. There is quadratic operation and square root to deal with negative values. The final difference is given by the cummulative difference in each dimension"
   ]
  },
  {
   "cell_type": "code",
   "execution_count": 46,
   "metadata": {
    "collapsed": false
   },
   "outputs": [
    {
     "name": "stdout",
     "output_type": "stream",
     "text": [
      "distance AxA 0.0\n",
      "distance AxB 12.928703242\n"
     ]
    }
   ],
   "source": [
    "A = np.random.rand(1000)\n",
    "B = np.random.rand(1000)\n",
    "\n",
    "print 'distance AxA {}'.format(np.linalg.norm(A-A))\n",
    "print 'distance AxB {}'.format(np.linalg.norm(A-B))"
   ]
  },
  {
   "cell_type": "markdown",
   "metadata": {},
   "source": [
    "### 1.3.2 Cosine distance"
   ]
  },
  {
   "cell_type": "markdown",
   "metadata": {},
   "source": [
    "It is based on [unit circle](https://en.wikipedia.org/wiki/Unit_circle#/media/File:Unit_circle.svg)\n",
    "\n",
    "The higher the similarity the closer to zero is the angle."
   ]
  },
  {
   "cell_type": "code",
   "execution_count": 49,
   "metadata": {
    "collapsed": false
   },
   "outputs": [
    {
     "name": "stdout",
     "output_type": "stream",
     "text": [
      "AxA -0.0000\n",
      "AxB 0.2453\n"
     ]
    }
   ],
   "source": [
    "print 'AxA {:.4f}'.format(distance.cosine(A, A))\n",
    "print 'AxB {:.4f}'.format(distance.cosine(A, B))"
   ]
  },
  {
   "cell_type": "code",
   "execution_count": null,
   "metadata": {
    "collapsed": true
   },
   "outputs": [],
   "source": []
  }
 ],
 "metadata": {
  "kernelspec": {
   "display_name": "Python 2",
   "language": "python",
   "name": "python2"
  },
  "language_info": {
   "codemirror_mode": {
    "name": "ipython",
    "version": 2
   },
   "file_extension": ".py",
   "mimetype": "text/x-python",
   "name": "python",
   "nbconvert_exporter": "python",
   "pygments_lexer": "ipython2",
   "version": "2.7.10"
  }
 },
 "nbformat": 4,
 "nbformat_minor": 0
}
